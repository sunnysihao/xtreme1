{
 "cells": [
  {
   "cell_type": "code",
   "execution_count": 3,
   "metadata": {
    "collapsed": true
   },
   "outputs": [],
   "source": [
    "from sdk_project.sdk_project.bf_client import BFClient"
   ]
  },
  {
   "cell_type": "code",
   "execution_count": 12,
   "outputs": [
    {
     "name": "stdout",
     "output_type": "stream",
     "text": [
      "jhals\n"
     ]
    }
   ],
   "source": [
    "def f(base: str=None):\n",
    "    print(base)\n",
    "f('jhals')"
   ],
   "metadata": {
    "collapsed": false,
    "pycharm": {
     "name": "#%%\n"
    }
   }
  },
  {
   "cell_type": "code",
   "execution_count": 7,
   "outputs": [],
   "source": [
    "client = BFClient"
   ],
   "metadata": {
    "collapsed": false,
    "pycharm": {
     "name": "#%%\n"
    }
   }
  },
  {
   "cell_type": "code",
   "execution_count": 10,
   "outputs": [
    {
     "name": "stdout",
     "output_type": "stream",
     "text": [
      "a\t b \t c\td\te\tf\t\n",
      "\n",
      "1\t2\t3\t4\t5\t6\t"
     ]
    }
   ],
   "source": [
    "a = {\n",
    "    \"a\": ['a', 'b', 'c', 'd','e', 'f'],\n",
    "    \"b\" : [1,2,3,4,5,6]\n",
    "}\n",
    "kl = []\n",
    "vl = []\n",
    "for k,v in a.items():\n",
    "    kl.append(k)\n",
    "    vl.append(v)\n",
    "for x in kl:\n",
    "    print(x, end='\\t')\n",
    "print('\\n')\n",
    "for y in vl:\n",
    "    print(y, end='\\t')"
   ],
   "metadata": {
    "collapsed": false,
    "pycharm": {
     "name": "#%%\n"
    }
   }
  }
 ],
 "metadata": {
  "kernelspec": {
   "display_name": "Python 3",
   "language": "python",
   "name": "python3"
  },
  "language_info": {
   "codemirror_mode": {
    "name": "ipython",
    "version": 2
   },
   "file_extension": ".py",
   "mimetype": "text/x-python",
   "name": "python",
   "nbconvert_exporter": "python",
   "pygments_lexer": "ipython2",
   "version": "2.7.6"
  }
 },
 "nbformat": 4,
 "nbformat_minor": 0
}